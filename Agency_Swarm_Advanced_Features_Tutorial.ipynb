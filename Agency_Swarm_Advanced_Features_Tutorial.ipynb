{
  "nbformat": 4,
  "nbformat_minor": 0,
  "metadata": {
    "colab": {
      "provenance": [],
      "include_colab_link": true
    },
    "kernelspec": {
      "name": "python3",
      "display_name": "Python 3"
    },
    "language_info": {
      "name": "python"
    }
  },
  "cells": [
    {
      "cell_type": "markdown",
      "metadata": {
        "id": "view-in-github",
        "colab_type": "text"
      },
      "source": [
        "<a href=\"https://colab.research.google.com/github/RegRom/agency-swarm-lab/blob/master/Agency_Swarm_Advanced_Features_Tutorial.ipynb\" target=\"_parent\"><img src=\"https://colab.research.google.com/assets/colab-badge.svg\" alt=\"Open In Colab\"/></a>"
      ]
    },
    {
      "cell_type": "markdown",
      "source": [
        "# Installation"
      ],
      "metadata": {
        "id": "4OdNxUowdxWw"
      }
    },
    {
      "cell_type": "code",
      "execution_count": null,
      "metadata": {
        "collapsed": true,
        "id": "jgvCBhfcDX9f"
      },
      "outputs": [],
      "source": [
        "!pip install agency-swarm gradio"
      ]
    },
    {
      "cell_type": "code",
      "source": [
        "from getpass import getpass\n",
        "from agency_swarm import set_openai_key\n",
        "import os\n",
        "os.environ[\"OPENAI_API_KEY\"] = getpass(\"Your OpenAI API Key: \")"
      ],
      "metadata": {
        "id": "Vzd2QIAsLHrK"
      },
      "execution_count": null,
      "outputs": []
    },
    {
      "cell_type": "markdown",
      "source": [
        "# Async Mode\n",
        "When it comes to asynchronous execution, there are 2 modes you can use at the moment: `threading`, `tools_threading`."
      ],
      "metadata": {
        "id": "6rAYuPD1KNpm"
      }
    },
    {
      "cell_type": "markdown",
      "source": [
        "## Threading\n",
        "\n",
        "If you would like to use asynchronous communication between agents, you can specify a `async_mode` parameter to `threading`. This is useful when you don't want to wait for a response from an agent. For example, if it takes it long to write it."
      ],
      "metadata": {
        "id": "EHwX7QYuKahp"
      }
    },
    {
      "cell_type": "code",
      "source": [
        "from agency_swarm.tools import BaseTool\n",
        "from pydantic import Field\n",
        "import time\n",
        "\n",
        "class MyCustomTool(BaseTool):\n",
        "    example_field: str = Field(..., description=\"Description of the example field.\")\n",
        "\n",
        "    def run(self):\n",
        "        time.sleep(5)  # Wait for 5 seconds\n",
        "        return f\"Processed {self.example_field}\""
      ],
      "metadata": {
        "id": "AfBJtlglKq7y"
      },
      "execution_count": null,
      "outputs": []
    },
    {
      "cell_type": "code",
      "source": [
        "from agency_swarm import Agent\n",
        "\n",
        "ceo = Agent(name=\"CEO\",\n",
        "            description=\"Responsible for managing tasks.\",\n",
        "            instructions=\"You are the CEO. Delegate tasks to other agents.\",\n",
        "            tools=[MyCustomTool])  # CEO with two tools\n",
        "\n",
        "essay_writer = Agent(name=\"Essay Writer\",\n",
        "                     description=\"Responsible for writing long-form essays.\",\n",
        "                     instructions=\"Write comprehensive and well-researched essays.\",\n",
        "                     tools=[])\n"
      ],
      "metadata": {
        "id": "SHKFLllMLjT-"
      },
      "execution_count": null,
      "outputs": []
    },
    {
      "cell_type": "code",
      "source": [
        "from agency_swarm import Agency\n",
        "\n",
        "agency = Agency([\n",
        "    ceo,\n",
        "    [ceo, essay_writer],\n",
        "], async_mode='threading')  # Enable asynchronous communication mode"
      ],
      "metadata": {
        "id": "VDjEVwCWLkAF"
      },
      "execution_count": null,
      "outputs": []
    },
    {
      "cell_type": "code",
      "source": [
        "agency.run_demo()"
      ],
      "metadata": {
        "id": "O8wBNC6NLpeN"
      },
      "execution_count": null,
      "outputs": []
    },
    {
      "cell_type": "markdown",
      "source": [
        "## Tools Threading\n",
        "If you would like to use asynchronous execution for tools, you can specify a `async_mode` parameter to `tools_threading`. With this mode on, all tools will be executed concurrently in separate threads, which can significantly speed up the work flow of I/O bound tasks."
      ],
      "metadata": {
        "id": "QFDaQGZRMdwR"
      }
    },
    {
      "cell_type": "code",
      "source": [
        "class AnotherCustomTool(BaseTool):\n",
        "    another_field: int = Field(..., description=\"An integer field for this tool.\")\n",
        "\n",
        "    def run(self):\n",
        "        time.sleep(25)  # Wait for 25 seconds\n",
        "        return f\"Processed integer {self.another_field}\""
      ],
      "metadata": {
        "id": "gQ3W0ziaLt44"
      },
      "execution_count": null,
      "outputs": []
    },
    {
      "cell_type": "code",
      "source": [
        "ceo = Agent(name=\"CEO\",\n",
        "            instructions=\"You must use the tool in the same message twice\",\n",
        "            tools=[AnotherCustomTool])"
      ],
      "metadata": {
        "id": "l9lSaZPqMEZQ"
      },
      "execution_count": null,
      "outputs": []
    },
    {
      "cell_type": "markdown",
      "source": [
        "Sync example"
      ],
      "metadata": {
        "id": "4_ZeJTVoZQm_"
      }
    },
    {
      "cell_type": "code",
      "source": [
        "agency = Agency([\n",
        "    ceo,\n",
        "], async_mode=None)  # Disable asynchronous tools mode"
      ],
      "metadata": {
        "id": "bWQ8RDWsZI1a"
      },
      "execution_count": null,
      "outputs": []
    },
    {
      "cell_type": "code",
      "source": [
        "%%time\n",
        "print(agency.get_completion('Use 2 another custom tools at the same time'))"
      ],
      "metadata": {
        "id": "hhFa3YQaZQAi"
      },
      "execution_count": null,
      "outputs": []
    },
    {
      "cell_type": "markdown",
      "source": [
        "Async example"
      ],
      "metadata": {
        "id": "wZSr-UnnZUdY"
      }
    },
    {
      "cell_type": "code",
      "source": [
        "agency = Agency([\n",
        "    ceo,\n",
        "], async_mode='tools_threading')  # Enable asynchronous tools mode"
      ],
      "metadata": {
        "id": "JF6anDiwMnaG"
      },
      "execution_count": null,
      "outputs": []
    },
    {
      "cell_type": "code",
      "source": [
        "%%time\n",
        "print(agency.get_completion('Use 2 another custom tools at the same time'))"
      ],
      "metadata": {
        "id": "zmvFkizUMsWC"
      },
      "execution_count": null,
      "outputs": []
    },
    {
      "cell_type": "markdown",
      "source": [
        "# Parallel Tool Calling\n",
        "Sometimes, you might want your agent to use all or some of the tools sequentially. For example, when you want your agents to see the results of the previous action before proceeding with the next one. For this you have 2 options:"
      ],
      "metadata": {
        "id": "2qZCe5j3ROjN"
      }
    },
    {
      "cell_type": "markdown",
      "source": [
        "## `parallel_tool_calls`\n",
        "You can specify weather to run tools in parallel or sequentially by setting the `parallel_tool_calls` parameter. By default, this parameter is set to `True`. See [OpenAI Docs](https://platform.openai.com/docs/api-reference/runs/createRun#runs-createrun-parallel_tool_calls)"
      ],
      "metadata": {
        "id": "HCDaWA1lRlnm"
      }
    },
    {
      "cell_type": "code",
      "source": [
        "ceo = Agent(name=\"CEO\",\n",
        "            instructions=\"You must use the tool in the same message twice\",\n",
        "            tools=[AnotherCustomTool],\n",
        "            parallel_tool_calls=False)"
      ],
      "metadata": {
        "id": "kRh6k6YGTHKs"
      },
      "execution_count": null,
      "outputs": []
    },
    {
      "cell_type": "code",
      "source": [
        "agency = Agency([\n",
        "    ceo,\n",
        "], async_mode='tools_threading')  # Enable asynchronous tools mode"
      ],
      "metadata": {
        "id": "By4MgVmqX-x7"
      },
      "execution_count": null,
      "outputs": []
    },
    {
      "cell_type": "code",
      "source": [
        "%%time\n",
        "print(agency.get_completion('Use call another custom tools twice at the same time'))"
      ],
      "metadata": {
        "id": "IifP6WWyYB8F"
      },
      "execution_count": null,
      "outputs": []
    },
    {
      "cell_type": "markdown",
      "source": [
        "## `one_call_at_a_time`\n",
        "Prevent multiple instances of the same **specific** tool from running at the same time."
      ],
      "metadata": {
        "id": "UHIRPdPsgDtM"
      }
    },
    {
      "cell_type": "markdown",
      "source": [
        "Pre made agent example"
      ],
      "metadata": {
        "id": "JohW855PhrJz"
      }
    },
    {
      "cell_type": "code",
      "source": [
        "!agency-swarm import-agent --name Devid"
      ],
      "metadata": {
        "id": "SP3cu_-RgnYV"
      },
      "execution_count": null,
      "outputs": []
    },
    {
      "cell_type": "markdown",
      "source": [
        "Simple example"
      ],
      "metadata": {
        "id": "6JLM5exNg_Fm"
      }
    },
    {
      "cell_type": "code",
      "source": [
        "import csv\n",
        "import os\n",
        "import time\n",
        "from agency_swarm.tools import BaseTool\n",
        "from pydantic import Field, model_validator\n",
        "from typing import ClassVar\n",
        "\n",
        "class CreateCsvSheetTool(BaseTool):\n",
        "    file_path: str = Field(..., description=\"The path to create the CSV file.\")\n",
        "    headers: list = Field(..., description=\"The headers for the CSV file.\")\n",
        "\n",
        "    def run(self):\n",
        "        time.sleep(5)  # Simulate processing time\n",
        "        with open(self.file_path, 'w', newline='') as file:\n",
        "            writer = csv.writer(file)\n",
        "            writer.writerow(self.headers)\n",
        "        self.shared_state.set('csv_file_path', self.file_path)\n",
        "        return f\"CSV file created at {self.file_path} with headers {self.headers}\"\n",
        "\n",
        "class FillRowInCsvTool(BaseTool):\n",
        "    row: list = Field(..., description=\"The row to add to the CSV file.\")\n",
        "    one_call_at_a_time: bool = True\n",
        "\n",
        "    @model_validator(mode='after')\n",
        "    def check_csv_exists(self):\n",
        "        file_path = self.shared_state.get('csv_file_path')\n",
        "        if not file_path or not os.path.exists(file_path):\n",
        "            raise ValueError(\"CSV file does not exist. Please create the CSV file first.\")\n",
        "        return self\n",
        "\n",
        "    def run(self):\n",
        "        time.sleep(5)  # Simulate processing time\n",
        "        file_path = self.shared_state.get('csv_file_path')\n",
        "        with open(file_path, 'a', newline='') as file:\n",
        "            writer = csv.writer(file)\n",
        "            writer.writerow(self.row)\n",
        "        return f\"Row {self.row} added to CSV file at {file_path}\""
      ],
      "metadata": {
        "id": "pV8kU3p0gxbt"
      },
      "execution_count": null,
      "outputs": []
    },
    {
      "cell_type": "code",
      "source": [
        "csv_sheet_agent = Agent(name=\"CSV Sheet Agent\",\n",
        "                        description=\"Responsible for creating and filling CSV sheets.\",\n",
        "                        tools=[CreateCsvSheetTool, FillRowInCsvTool])  # CSV Sheet Agent with tools"
      ],
      "metadata": {
        "id": "OjRDfqFYhMiB"
      },
      "execution_count": null,
      "outputs": []
    },
    {
      "cell_type": "code",
      "source": [
        "agency = Agency([csv_sheet_agent], temperature=0)"
      ],
      "metadata": {
        "id": "d72WQUAAjR28"
      },
      "execution_count": null,
      "outputs": []
    },
    {
      "cell_type": "code",
      "source": [
        "print(agency.get_completion('add any example row to csv file. Go'))"
      ],
      "metadata": {
        "id": "ZqUBXRh0ldNw"
      },
      "execution_count": null,
      "outputs": []
    },
    {
      "cell_type": "code",
      "source": [
        "print(agency.get_completion('Run fill row tool twice together and add more rows.'))"
      ],
      "metadata": {
        "id": "_ChIkbLal3Ob"
      },
      "execution_count": null,
      "outputs": []
    },
    {
      "cell_type": "markdown",
      "source": [
        "# Advanced `Agent` Params and Tecniques\n",
        "All parameters inside the Agent class, primarily follow the same structure as OpenAI's Assistants API. However, there are a few additional parameters that you can use to customize your agent."
      ],
      "metadata": {
        "id": "YrUP6nCFfuiK"
      }
    },
    {
      "cell_type": "markdown",
      "source": [
        "## Examples\n",
        "You can now also provide **few-shot** examples for each agent. These examples help the agent to understand how to respond. The format for examples follows [message object format on OpenAI](https://platform.openai.com/docs/api-reference/messages/createMessage):"
      ],
      "metadata": {
        "id": "eFLG17wrf616"
      }
    },
    {
      "cell_type": "code",
      "source": [
        "few_shot_examples = [\n",
        "    {\n",
        "        \"role\": \"user\",\n",
        "        \"content\": \"Can you tell me more about the capabilities of your AI agents?\",\n",
        "    },\n",
        "    {\n",
        "        \"role\": \"assistant\",\n",
        "        \"content\": \"Absolutely! 😊 Our AI agents can handle various tasks, including data processing, customer support, and automating repetitive tasks. They integrate seamlessly with tools like Slack, email, and APIs to optimize your workflow. 🤖💼📧\",\n",
        "    },\n",
        "    {\n",
        "        \"role\": \"user\",\n",
        "        \"content\": \"What is the status of my subscription setup?\",\n",
        "    },\n",
        "    {\n",
        "        \"role\": \"assistant\",\n",
        "        \"content\": \"Your subscription setup is currently in progress. 🛠️ It should be fully activated within the next 2 business days. 🚀📈\",\n",
        "    },\n",
        "    {\n",
        "        \"role\": \"user\",\n",
        "        \"content\": \"How can I provide feedback on the AI agent deployed in my company?\",\n",
        "    },\n",
        "    {\n",
        "        \"role\": \"assistant\",\n",
        "        \"content\": \"To provide feedback, please visit our feedback page and fill out the form. 📄 We appreciate your input and strive to improve our services based on your suggestions. 📝🙏\",\n",
        "    }\n",
        "]\n"
      ],
      "metadata": {
        "id": "w35ZMAPEZ8nA"
      },
      "execution_count": null,
      "outputs": []
    },
    {
      "cell_type": "code",
      "source": [
        "customer_service_agent = Agent(name=\"Customer Service Agent\",\n",
        "                               temperature=0,\n",
        "                               examples=few_shot_examples)  # Adding few-shot examples to the agent\n"
      ],
      "metadata": {
        "id": "sPskTNaWnyVD"
      },
      "execution_count": null,
      "outputs": []
    },
    {
      "cell_type": "code",
      "source": [
        "agency = Agency([\n",
        "    customer_service_agent,\n",
        "])"
      ],
      "metadata": {
        "id": "DvVwVajFn0Us"
      },
      "execution_count": null,
      "outputs": []
    },
    {
      "cell_type": "code",
      "source": [
        "print(agency.get_completion(\"How can I customize the AI agent's responses?\"))"
      ],
      "metadata": {
        "id": "AEFvumx9n29z"
      },
      "execution_count": null,
      "outputs": []
    },
    {
      "cell_type": "markdown",
      "source": [
        "## Response Validators\n",
        "You can also provide a response validator function to validate the response before sending it to the user or another agent. This function should raise an error if the response is invalid."
      ],
      "metadata": {
        "id": "8XL-IpyhokXd"
      }
    },
    {
      "cell_type": "code",
      "source": [
        "class CustomerServiceAgent(Agent):\n",
        "  def __init__(self):\n",
        "    super().__init__(name=\"Customer Service Agent\",\n",
        "                     description=\"Handles inquiries about products, order status, and returns.\",\n",
        "                     examples=few_shot_examples,\n",
        "                     validation_attempts=1)\n",
        "\n",
        "  def response_validator(self, message: str) -> str:\n",
        "      if '😊' not in message or '❤️' not in message or '📱' not in message or '🛠️' not in message or '🚚' not in message or '📦' not in message or '📄' not in response or '📧' not in message:\n",
        "          raise ValueError(\"Response does not contain required emojis!!!!!!\")\n",
        "      return message # you can also modify it"
      ],
      "metadata": {
        "id": "dv7GiwSEn4QD"
      },
      "execution_count": null,
      "outputs": []
    },
    {
      "cell_type": "code",
      "source": [
        "customer_service_agent = CustomerServiceAgent()"
      ],
      "metadata": {
        "id": "RrFb1ZQcpN2g"
      },
      "execution_count": null,
      "outputs": []
    },
    {
      "cell_type": "code",
      "source": [
        "agency = Agency([\n",
        "    customer_service_agent\n",
        "])"
      ],
      "metadata": {
        "id": "iFevkUGkpQng"
      },
      "execution_count": null,
      "outputs": []
    },
    {
      "cell_type": "code",
      "source": [
        "print(agency.get_completion(\"Tell me about the features of the Laptop Pro 15. Please don't output any emojis, I hate emojis\"))"
      ],
      "metadata": {
        "id": "HisyJrPEpn6N"
      },
      "execution_count": null,
      "outputs": []
    },
    {
      "cell_type": "markdown",
      "source": [
        "# Fine Tuned Models\n",
        "\n",
        "You can use any previously fine-tuned model by specifying the `model` parameter in the agent."
      ],
      "metadata": {
        "id": "vF5hOrpdrIKv"
      }
    },
    {
      "cell_type": "code",
      "source": [
        "email_agent = Agent(\n",
        "    name=\"Email Agent\",\n",
        "    description=\"Responds to emails.\",\n",
        "    model=\"ft:gpt-3.5-turbo:your_org:name:7rOSGOQm\",  # Fine-tuned model\n",
        ")"
      ],
      "metadata": {
        "id": "LPHibQtApvE_"
      },
      "execution_count": null,
      "outputs": []
    },
    {
      "cell_type": "markdown",
      "source": [
        "## File Search Config\n",
        "\n",
        "You can also specify the file search configuration for the agent, as described in the [OpenAI documentation](https://platform.openai.com/docs/api-reference/assistants/createAssistant#assistants-createassistant-tools). Right now, only `max_num_results` is supported.\n"
      ],
      "metadata": {
        "id": "xuKMCOS5sxWa"
      }
    },
    {
      "cell_type": "code",
      "source": [
        "agent = Agent(name='MyAgent',\n",
        "              files_folder=\"./my_files\",\n",
        "              file_search={'max_num_results': 25} # must be between 1 and 50\n",
        "              )"
      ],
      "metadata": {
        "id": "cD5rjWs3stxv"
      },
      "execution_count": null,
      "outputs": []
    },
    {
      "cell_type": "markdown",
      "source": [
        "## Truncation Params"
      ],
      "metadata": {
        "id": "DBkuxw6zuKH3"
      }
    },
    {
      "cell_type": "code",
      "source": [
        "agent = Agent(\n",
        "    name=\"ExampleAgent\",\n",
        "    temperature=0.5,\n",
        "    max_prompt_tokens=2048,\n",
        "    max_completion_tokens=16000,\n",
        "    truncation_strategy='auto',\n",
        "    response_format={\"type\": \"json_object\"}\n",
        ")"
      ],
      "metadata": {
        "id": "LKCiO7-OuOPM"
      },
      "execution_count": null,
      "outputs": []
    },
    {
      "cell_type": "markdown",
      "source": [
        "Also you can set in Agency class, which will act as defaults. Agent parameters will always take precedence."
      ],
      "metadata": {
        "id": "UuGUTF6YM6lh"
      }
    },
    {
      "cell_type": "code",
      "source": [
        "agency = Agency(\n",
        "    agency_chart=[\n",
        "        ceo,\n",
        "    ],\n",
        "    temperature=0.5,  # setting default temperature for the agency\n",
        "    max_prompt_tokens=2500,  # setting default max_prompt_tokens for the agency\n",
        "    max_completion_tokens=750,  # setting default max_completion_tokens for the agency\n",
        "    truncation_strategy='auto',  # setting default truncation_strategy for the agency\n",
        "    response_format={\"type\": \"json_object\"},  # setting default response_format for the agency\n",
        ")"
      ],
      "metadata": {
        "id": "BNeIfHucNDyA"
      },
      "execution_count": null,
      "outputs": []
    },
    {
      "cell_type": "markdown",
      "source": [
        "# `ToolFactory` Open API Schemas\n",
        "\n",
        "This is the most underrated feature of my framework. Tool facotry converts any OpenAPI schema into `BaseTool`s, which allows your agents to validate all inputs **before** calling the API, significantly reducing the production errors."
      ],
      "metadata": {
        "id": "xUVy3TVeXuZ1"
      }
    },
    {
      "cell_type": "markdown",
      "source": [
        "### Schemas Folder\n",
        "\n",
        "You can specify the folder where the agent will look for OpenAPI schemas to convert into tools. Additionally, you can add `api_params` and `api_headers` to the schema to pass additional parameters and headers to the API call."
      ],
      "metadata": {
        "id": "qlv0ZPVUtHaZ"
      }
    },
    {
      "cell_type": "code",
      "source": [
        "agent = Agent(name='MyAgent',\n",
        "              schemas_folder='schemas',\n",
        "              api_params={'my_schema.json': {'param1': 'value1'}},\n",
        "              api_headers={'my_schema.json': {'Authorization': 'Bearer token'}}\n",
        "            )"
      ],
      "metadata": {
        "id": "woVOzXR1tKA_"
      },
      "execution_count": null,
      "outputs": []
    },
    {
      "cell_type": "code",
      "source": [
        "agency = Agency([agent])"
      ],
      "metadata": {
        "id": "hvTO9y1VcxVp"
      },
      "execution_count": null,
      "outputs": []
    },
    {
      "cell_type": "code",
      "source": [
        "agency.demo_gradio()"
      ],
      "metadata": {
        "id": "_We41lGMc0mV"
      },
      "execution_count": null,
      "outputs": []
    },
    {
      "cell_type": "markdown",
      "source": [
        "Can also be done with `ToolFactory` class"
      ],
      "metadata": {
        "id": "edirb5aetSRk"
      }
    },
    {
      "cell_type": "code",
      "source": [
        "from agency_swarm.tools import ToolFactory\n",
        "import requests\n",
        "\n",
        "tools = ToolFactory.from_openapi_schema(\n",
        "    requests.get(\"https://api.example.com/openapi.json\").json(),\n",
        "    headers={'Authorization': 'Bearer token'},\n",
        "    params={'param1': 'value1'}\n",
        ")"
      ],
      "metadata": {
        "id": "x0IHy8zbtUlw"
      },
      "execution_count": null,
      "outputs": []
    },
    {
      "cell_type": "markdown",
      "source": [
        "# Get Completion Advanced params\n",
        "Lastly, there are some params that can be useful for backend integrations in `get_completion` method:\n",
        "\n",
        "\n",
        "\n",
        "*   `additional_isntructions` - useful for passing session or user info.\n",
        "*   `tool_choice` - useful for forcing the agent to perform a certain action based on other confitions.\n",
        "*   `recipient_agent` - sends message to a different agent in the agency.\n",
        "\n",
        "\n",
        "\n"
      ],
      "metadata": {
        "id": "C5DPH0fVtskr"
      }
    },
    {
      "cell_type": "code",
      "source": [
        "from Devid import Devid"
      ],
      "metadata": {
        "id": "ZOG2Z3wsvej4"
      },
      "execution_count": null,
      "outputs": []
    },
    {
      "cell_type": "code",
      "source": [
        "devid = Devid()\n",
        "\n",
        "agency = Agency(\n",
        "    [\n",
        "        ceo,  # CEO can communicate with the user\n",
        "        [ceo, devid]  # CEO can delegate tasks to the Developer\n",
        "    ],\n",
        "    shared_instructions='Please always address the user by name.'\n",
        ")"
      ],
      "metadata": {
        "id": "7RBS5XFnuvqW"
      },
      "execution_count": null,
      "outputs": []
    },
    {
      "cell_type": "code",
      "source": [
        "user_name = \"John Doe\"\n",
        "\n",
        "task_description = \"Create a function that calculates the factorial of a number.\"\n",
        "\n",
        "response = agency.get_completion(\n",
        "    message=task_description,\n",
        "    recipient_agent=devid,  # Specifying the Developer agent\n",
        "    additional_instructions=f\"User name: {user_name}\",  # Passing user name\n",
        "    tool_choice={\"type\": \"function\", \"function\": {\"name\": \"FileWriter\"}}  # Specifying the tool to use\n",
        ")\n",
        "\n",
        "print(response)"
      ],
      "metadata": {
        "id": "86qEdcJftwj6"
      },
      "execution_count": null,
      "outputs": []
    },
    {
      "cell_type": "markdown",
      "source": [
        "# Open Source Models with Astra Assistants API\n",
        "\n",
        "Astra Assistants persists assistant metadata in AstraDB (managed Apache Cassandra) and uses AstraDB for ANN, [here](https://www.datastax.com/pricing/astra-db) are the details on AstrDB pricing / free tier.\n",
        "\n",
        "This now the best and the easiest way to run open source models with my framework. It takes only 5 minutes to setup.\n",
        "\n",
        "\n",
        "Please make sure to give https://github.com/datastax/astra-assistants-api a star ⭐ on github."
      ],
      "metadata": {
        "id": "QLhDm2fgoNNu"
      }
    },
    {
      "cell_type": "markdown",
      "source": [
        "1. Install Astra Assistants API"
      ],
      "metadata": {
        "id": "DDXDOxL3JCVM"
      }
    },
    {
      "cell_type": "code",
      "source": [
        "!pip install astra_assistants"
      ],
      "metadata": {
        "id": "mY29_oQlJEzM"
      },
      "execution_count": null,
      "outputs": []
    },
    {
      "cell_type": "markdown",
      "source": [
        "2. Get Your Astra DB token [here](https://astra.datastax.com/).\n"
      ],
      "metadata": {
        "id": "QOhu6KCGJNWp"
      }
    },
    {
      "cell_type": "code",
      "source": [
        "import os\n",
        "from getpass import getpass\n",
        "\n",
        "os.environ[\"ASTRA_DB_APPLICATION_TOKEN\"] = getpass(\"Your Astra DB Application Token: \")"
      ],
      "metadata": {
        "id": "WujrupBLJCB6"
      },
      "execution_count": null,
      "outputs": []
    },
    {
      "cell_type": "markdown",
      "source": [
        "3. Add other model provider API keys to your env"
      ],
      "metadata": {
        "id": "MjYzdcNnKCJm"
      }
    },
    {
      "cell_type": "code",
      "source": [
        "os.environ[\"PERPLEXITYAI_API_KEY\"] = getpass(\"Your Perplexity AI API Key: \")\n",
        "\n",
        "os.environ[\"ANTHROPIC_API_KEY\"] = getpass(\"Your Anthropic API Key: \")\n",
        "\n",
        "os.environ[\"TOGETHER_API_KEY\"] = getpass(\"Your Together API Key: \")\n",
        "\n",
        "os.environ[\"GROQ_API_KEY\"] = getpass(\"Your Groq API Key: \")"
      ],
      "metadata": {
        "id": "7f8k5UNOoM6D"
      },
      "execution_count": null,
      "outputs": []
    },
    {
      "cell_type": "markdown",
      "source": [
        "4. Patch the OpenAI client"
      ],
      "metadata": {
        "id": "Bx1vxcwNLKxB"
      }
    },
    {
      "cell_type": "code",
      "source": [
        "from openai import OpenAI\n",
        "from astra_assistants import patch\n",
        "from agency_swarm import get_openai_client, set_openai_client\n",
        "\n",
        "client = patch(OpenAI())\n",
        "\n",
        "set_openai_client(client)"
      ],
      "metadata": {
        "id": "uySVEOYDLAAv"
      },
      "execution_count": null,
      "outputs": []
    },
    {
      "cell_type": "markdown",
      "source": [
        "5. Create your Agents"
      ],
      "metadata": {
        "id": "Sy_NjpMVLQ2H"
      }
    },
    {
      "cell_type": "code",
      "source": [
        "from agency_swarm import Agent, Agency\n",
        "\n",
        "groq_agent = Agent(name='GroqAgent', model=\"groq/llama3-8b-8192\")\n",
        "\n",
        "ceo = Agent(name='CEO',\n",
        "            model=\"claude-3-haiku-20240307\",\n",
        "            files_folder='./files',\n",
        "            file_search={'max_num_results': 25},\n",
        "            instructions=\"Please answer the question as best as you can. You can use the send message tool only if users tells you to ask another agent.\"\n",
        "            )\n",
        "\n",
        "agency = Agency([ceo, groq_agent])"
      ],
      "metadata": {
        "id": "4zchLlwALQKU"
      },
      "execution_count": null,
      "outputs": []
    },
    {
      "cell_type": "markdown",
      "source": [
        "6. Run Demo"
      ],
      "metadata": {
        "id": "mRy2aIwiM8d_"
      }
    },
    {
      "cell_type": "code",
      "source": [
        "demo = agency.demo_gradio()"
      ],
      "metadata": {
        "id": "nIafRay2Q4Jl"
      },
      "execution_count": null,
      "outputs": []
    },
    {
      "cell_type": "code",
      "source": [
        "demo.close()"
      ],
      "metadata": {
        "id": "i7YUw0e303QZ"
      },
      "execution_count": null,
      "outputs": []
    },
    {
      "cell_type": "markdown",
      "source": [
        "# Next Steps:\n",
        "1. Run Open Source Model with Ollama Locally at https://github.com/VRSEN/agency-swarm-lab/tree/main/AstraOpenSourceSwarm\n",
        "2. See more use cases at https://github.com/VRSEN/agency-swarm-lab/tree/main\n",
        "3. Checkout docs at https://vrsen.github.io/agency-swarm/\n",
        "4. Join our discord [here](https://www.youtube.com/redirect?event=channel_description&redir_token=QUFFLUhqbldDNVZlVnpkVFdoWHdueG1JMFVqbklfZUhUQXxBQ3Jtc0tuM2xKYVJ5X0VBZS1qa0t3QlVYMWNVaHJHMjdZbkNQUHhkLWswWWE2STlybVl0bDBVVFptbnlpdjBFbVAya0hxek02MnZYOVB0SFUydnk5ZkZUM2lmRFhMRUZZVW1kQnoxZ1ljcDdGamktay12NGRCMA&q=https%3A%2F%2Fdiscord.gg%2F7HcABDpFPG)"
      ],
      "metadata": {
        "id": "PBev68EWNA_s"
      }
    }
  ]
}